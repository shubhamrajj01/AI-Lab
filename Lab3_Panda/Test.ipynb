{
 "cells": [
  {
   "cell_type": "code",
   "execution_count": 1,
   "id": "b6a6ac58-dd38-4506-b47d-3f28fa6f5dbd",
   "metadata": {},
   "outputs": [
    {
     "name": "stdout",
     "output_type": "stream",
     "text": [
      "   ID     Name  Age\n",
      "0   1    Alice   23\n",
      "1   2      Bob   30\n",
      "2   3  Charlie   25\n"
     ]
    }
   ],
   "source": [
    "# 1.Make pa panda dataframe with 2D list.\n",
    "\n",
    "import pandas as pd\n",
    "\n",
    "# Create a 2D list\n",
    "data = [\n",
    "    [1, 'Alice', 23],\n",
    "    [2, 'Bob', 30],\n",
    "    [3, 'Charlie', 25]\n",
    "]\n",
    "\n",
    "# Create a pandas DataFrame using the 2D list\n",
    "df = pd.DataFrame(data, columns=['ID', 'Name', 'Age'])\n",
    "\n",
    "# Display the DataFrame\n",
    "print(df)"
   ]
  },
  {
   "cell_type": "code",
   "execution_count": 2,
   "id": "839206a0-0ae4-424a-8b0f-f4ea44c30154",
   "metadata": {},
   "outputs": [
    {
     "name": "stdout",
     "output_type": "stream",
     "text": [
      "   A  B  C\n",
      "0  2  2  0\n",
      "1  5  3  1\n",
      "2  9  4  0\n"
     ]
    }
   ],
   "source": [
    "# 2.Create dataframe from dic of n array or list\n",
    "import pandas as pd\n",
    "\n",
    "data = [[2, 2, 0], [5, 3, 1], [9, 4, 0]]\n",
    "df = pd.DataFrame(data, columns=['A', 'B','C'])\n",
    "print(df)"
   ]
  },
  {
   "cell_type": "code",
   "execution_count": 3,
   "id": "d5a8b052-1f11-474d-9835-8d51f8a8368e",
   "metadata": {},
   "outputs": [
    {
     "name": "stdout",
     "output_type": "stream",
     "text": [
      "   ID     Name  Age\n",
      "0   1    Alice   23\n",
      "1   2      Bob   30\n",
      "2   3  Charlie   25\n"
     ]
    }
   ],
   "source": [
    "# 3.Create pandas dataframe using list of lists.\n",
    "\n",
    "import pandas as pd\n",
    "\n",
    "# Create a dictionary of lists\n",
    "data = {\n",
    "    'ID': [1, 2, 3],\n",
    "    'Name': ['Alice', 'Bob', 'Charlie'],\n",
    "    'Age': [23, 30, 25]\n",
    "}\n",
    "\n",
    "# Create a pandas DataFrame using the dictionary of lists\n",
    "df = pd.DataFrame(data)\n",
    "\n",
    "# Display the DataFrame\n",
    "print(df)"
   ]
  },
  {
   "cell_type": "code",
   "execution_count": 14,
   "id": "d9415ffe-48e2-49e0-a8e7-dfc3fddd8cf8",
   "metadata": {},
   "outputs": [
    {
     "name": "stdout",
     "output_type": "stream",
     "text": [
      "    ID     Name  Age\n",
      "A  101    Alice   28\n",
      "B  102      Bob   34\n",
      "C  103  Charlie   23\n"
     ]
    }
   ],
   "source": [
    "# 4. Create a pandas dataframe using list of tuples\n",
    "\n",
    "import pandas as pd\n",
    "\n",
    "# List of lists\n",
    "data = [\n",
    "    [101, \"Alice\", 28],\n",
    "    [102, \"Bob\", 34],\n",
    "    [103, \"Charlie\", 23]\n",
    "]\n",
    "\n",
    "# Column names\n",
    "columns = [\"ID\", \"Name\", \"Age\"]\n",
    "r = [\"A\", \"B\", \"C\"]\n",
    "\n",
    "# Create DataFrame\n",
    "df = pd.DataFrame(data, columns=columns, index=r)\n",
    "\n",
    "# Display the DataFrame\n",
    "print(df)"
   ]
  },
  {
   "cell_type": "code",
   "execution_count": 5,
   "id": "b372d559-cd47-411c-a238-e3ce7e459d34",
   "metadata": {},
   "outputs": [
    {
     "name": "stdout",
     "output_type": "stream",
     "text": [
      "   ID     Name  Age\n",
      "0   1    Alice   23\n",
      "1   2      Bob   30\n",
      "2   3  Charlie   25\n"
     ]
    }
   ],
   "source": [
    "# 5. Create a pandas dataframe using list of dics\n",
    "\n",
    "import pandas as pd\n",
    "\n",
    "# Create a list of tuples\n",
    "data = [\n",
    "    (1, 'Alice', 23),\n",
    "    (2, 'Bob', 30),\n",
    "    (3, 'Charlie', 25)\n",
    "]\n",
    "\n",
    "# Create a pandas DataFrame using the list of tuples\n",
    "df = pd.DataFrame(data, columns=['ID', 'Name', 'Age'])\n",
    "\n",
    "# Display the DataFrame\n",
    "print(df)"
   ]
  },
  {
   "cell_type": "code",
   "execution_count": 14,
   "id": "76197dfe-cf5b-49ff-8305-4e43a2a723c4",
   "metadata": {},
   "outputs": [
    {
     "name": "stdout",
     "output_type": "stream",
     "text": [
      "   ID     Name  Age\n",
      "0   1    Alice   23\n",
      "1   2      Bob   30\n",
      "2   3  Charlie   25\n"
     ]
    }
   ],
   "source": [
    "# 6.Convert list of nested dictionary into pandas dataframe\n",
    "import pandas as pd\n",
    "\n",
    "data = [\n",
    "    {'ID': 1, 'Name': 'Alice', 'Age': 23},\n",
    "    {'ID': 2, 'Name': 'Bob', 'Age': 30},\n",
    "    {'ID': 3, 'Name': 'Charlie', 'Age': 25}\n",
    "]\n",
    "\n",
    "df = pd.DataFrame(data)\n",
    "\n",
    "print(df)"
   ]
  },
  {
   "cell_type": "code",
   "execution_count": 15,
   "id": "9fdc83db-2984-448d-a262-736d1da65f91",
   "metadata": {},
   "outputs": [
    {
     "name": "stdout",
     "output_type": "stream",
     "text": [
      "   ID     Name  Age\n",
      "0   1   Annice   23\n",
      "1   2     Benb   30\n",
      "2   3  Charlie   25\n"
     ]
    }
   ],
   "source": [
    "# 7.Replace values in pandas dataframe using regex(regular expression).\n",
    "\n",
    "import pandas as pd\n",
    "\n",
    "data = {\n",
    "    'ID': [1, 2, 3],\n",
    "    'Name': ['Alice', 'Bob', 'Charlie'],\n",
    "    'Age': [23, 30, 25]\n",
    "}\n",
    "df = pd.DataFrame(data)\n",
    "\n",
    "df['Name'] = df['Name'].replace({'A.': 'Ann', 'B.': 'Ben'}, regex=True)\n",
    "\n",
    "print(df)"
   ]
  },
  {
   "cell_type": "code",
   "execution_count": null,
   "id": "f6541967-02ec-4904-9c67-1a547b8cf03f",
   "metadata": {},
   "outputs": [],
   "source": []
  }
 ],
 "metadata": {
  "kernelspec": {
   "display_name": "Python 3",
   "language": "python",
   "name": "python3"
  },
  "language_info": {
   "codemirror_mode": {
    "name": "ipython",
    "version": 3
   },
   "file_extension": ".py",
   "mimetype": "text/x-python",
   "name": "python",
   "nbconvert_exporter": "python",
   "pygments_lexer": "ipython3",
   "version": "3.12.5"
  }
 },
 "nbformat": 4,
 "nbformat_minor": 5
}
